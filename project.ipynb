{
 "cells": [
  {
   "cell_type": "code",
   "execution_count": 58,
   "metadata": {},
   "outputs": [],
   "source": [
    "import pandas as pd\n",
    "from pert import PERT"
   ]
  },
  {
   "cell_type": "code",
   "execution_count": 59,
   "metadata": {},
   "outputs": [],
   "source": [
    "def generate_variable(times):\n",
    "    #生成每個活動的隨機變數\n",
    "    cus_a_list = PERT(6, 14, 16).rvs(1)[0]\n",
    "    cus_b_list = PERT(6,15,30).rvs(1)[0]\n",
    "    cus_c_list = PERT(2,5,8).rvs(1)[0]\n",
    "    cus_d_list = PERT(1,2,3).rvs(1)[0]\n",
    "    cus_e_list = PERT(3,12,21).rvs(1)[0]\n",
    "    cus_f_list = PERT(4,11,12).rvs(1)[0]\n",
    "    cus_g_list = PERT(5,7,9).rvs(1)[0]\n",
    "    cus_h_list = PERT(3,4,5).rvs(1)[0]\n",
    "    cus_i_list = PERT(1,5,9).rvs(1)[0]\n",
    "    cus_j_list = PERT(1,5,9).rvs(1)[0]\n",
    "    cus_k_list = PERT(1,4,7).rvs(1)[0]\n",
    "    #計算每個path duration\n",
    "    a_f_j = cus_a_list + cus_f_list + cus_j_list\n",
    "    b_k = cus_b_list + cus_k_list\n",
    "    a_g_i_k = cus_a_list + cus_g_list + cus_i_list + cus_k_list\n",
    "    c_h_i_k = cus_c_list + cus_h_list + cus_i_list + cus_k_list\n",
    "    d_e_h_i_k = cus_d_list + cus_e_list + cus_h_list + cus_i_list + cus_k_list\n",
    "    all_path = [a_f_j , b_k , a_g_i_k , c_h_i_k , d_e_h_i_k] \n",
    "    #找到critial path duration\n",
    "    cri = [max(all_path)]\n",
    "    list1.append(cri)\n"
   ]
  },
  {
   "cell_type": "code",
   "execution_count": 60,
   "metadata": {},
   "outputs": [],
   "source": [
    "list1 = []\n",
    "for i in range(1000): #執行1000次模擬\n",
    "    generate_variable(str(i))\n",
    "\n",
    "df_duration = pd.DataFrame(list1)\n"
   ]
  },
  {
   "cell_type": "code",
   "execution_count": 61,
   "metadata": {},
   "outputs": [],
   "source": [
    "df_duration.columns = [\"critial_path_duration\"]"
   ]
  },
  {
   "cell_type": "code",
   "execution_count": 62,
   "metadata": {},
   "outputs": [
    {
     "data": {
      "text/html": [
       "<div>\n",
       "<style scoped>\n",
       "    .dataframe tbody tr th:only-of-type {\n",
       "        vertical-align: middle;\n",
       "    }\n",
       "\n",
       "    .dataframe tbody tr th {\n",
       "        vertical-align: top;\n",
       "    }\n",
       "\n",
       "    .dataframe thead th {\n",
       "        text-align: right;\n",
       "    }\n",
       "</style>\n",
       "<table border=\"1\" class=\"dataframe\">\n",
       "  <thead>\n",
       "    <tr style=\"text-align: right;\">\n",
       "      <th></th>\n",
       "      <th>critial_path_duration</th>\n",
       "    </tr>\n",
       "  </thead>\n",
       "  <tbody>\n",
       "    <tr>\n",
       "      <th>0</th>\n",
       "      <td>29.860374</td>\n",
       "    </tr>\n",
       "    <tr>\n",
       "      <th>1</th>\n",
       "      <td>28.618325</td>\n",
       "    </tr>\n",
       "    <tr>\n",
       "      <th>2</th>\n",
       "      <td>30.499680</td>\n",
       "    </tr>\n",
       "    <tr>\n",
       "      <th>3</th>\n",
       "      <td>30.773684</td>\n",
       "    </tr>\n",
       "    <tr>\n",
       "      <th>4</th>\n",
       "      <td>28.378543</td>\n",
       "    </tr>\n",
       "    <tr>\n",
       "      <th>...</th>\n",
       "      <td>...</td>\n",
       "    </tr>\n",
       "    <tr>\n",
       "      <th>995</th>\n",
       "      <td>29.339685</td>\n",
       "    </tr>\n",
       "    <tr>\n",
       "      <th>996</th>\n",
       "      <td>32.975472</td>\n",
       "    </tr>\n",
       "    <tr>\n",
       "      <th>997</th>\n",
       "      <td>31.557381</td>\n",
       "    </tr>\n",
       "    <tr>\n",
       "      <th>998</th>\n",
       "      <td>29.991888</td>\n",
       "    </tr>\n",
       "    <tr>\n",
       "      <th>999</th>\n",
       "      <td>32.348807</td>\n",
       "    </tr>\n",
       "  </tbody>\n",
       "</table>\n",
       "<p>1000 rows × 1 columns</p>\n",
       "</div>"
      ],
      "text/plain": [
       "     critial_path_duration\n",
       "0                29.860374\n",
       "1                28.618325\n",
       "2                30.499680\n",
       "3                30.773684\n",
       "4                28.378543\n",
       "..                     ...\n",
       "995              29.339685\n",
       "996              32.975472\n",
       "997              31.557381\n",
       "998              29.991888\n",
       "999              32.348807\n",
       "\n",
       "[1000 rows x 1 columns]"
      ]
     },
     "execution_count": 62,
     "metadata": {},
     "output_type": "execute_result"
    }
   ],
   "source": [
    "df_duration"
   ]
  },
  {
   "cell_type": "code",
   "execution_count": 63,
   "metadata": {},
   "outputs": [
    {
     "data": {
      "text/plain": [
       "<matplotlib.axes._subplots.AxesSubplot at 0x18b6420f588>"
      ]
     },
     "execution_count": 63,
     "metadata": {},
     "output_type": "execute_result"
    },
    {
     "data": {
      "image/png": "[encoded data removed]",
      "text/plain": [
       "<Figure size 432x288 with 1 Axes>"
      ]
     },
     "metadata": {
      "needs_background": "light"
     },
     "output_type": "display_data"
    }
   ],
   "source": [
    "df_duration['critial_path_duration'].hist()"
   ]
  },
  {
   "cell_type": "code",
   "execution_count": null,
   "metadata": {},
   "outputs": [],
   "source": []
  }
 ],
 "metadata": {
  "kernelspec": {
   "display_name": "Python 3",
   "language": "python",
   "name": "python3"
  },
  "language_info": {
   "codemirror_mode": {
    "name": "ipython",
    "version": 3
   },
   "file_extension": ".py",
   "mimetype": "text/x-python",
   "name": "python",
   "nbconvert_exporter": "python",
   "pygments_lexer": "ipython3",
   "version": "3.7.6"
  }
 },
 "nbformat": 4,
 "nbformat_minor": 4
}
