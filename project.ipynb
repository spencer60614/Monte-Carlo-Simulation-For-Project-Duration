{
 "cells": [
  {
   "cell_type": "code",
   "execution_count": 23,
   "metadata": {},
   "outputs": [],
   "source": [
    "import pandas as pd\n",
    "import random\n",
    "import numpy as np\n",
    "import scipy.stats \n",
    "from pert import PERT\n",
    "import seaborn as sns"
   ]
  },
  {
   "cell_type": "code",
   "execution_count": 24,
   "metadata": {},
   "outputs": [],
   "source": [
    "def generate_ods(times):\n",
    "    cus_a_list = PERT(6, 14, 16).rvs(1)[0]\n",
    "    cus_b_list = PERT(6,15,30).rvs(1)[0]\n",
    "    cus_c_list = PERT(2,5,8).rvs(1)[0]\n",
    "    cus_d_list = PERT(1,2,3).rvs(1)[0]\n",
    "    cus_e_list = PERT(3,12,21).rvs(1)[0]\n",
    "    cus_f_list = PERT(4,11,12).rvs(1)[0]\n",
    "    cus_g_list = PERT(5,7,9).rvs(1)[0]\n",
    "    cus_h_list = PERT(3,4,5).rvs(1)[0]\n",
    "    cus_i_list = PERT(1,5,9).rvs(1)[0]\n",
    "    cus_j_list = PERT(1,5,9).rvs(1)[0]\n",
    "    cus_k_list = PERT(1,4,7).rvs(1)[0]\n",
    "    a_f_j = cus_a_list + cus_f_list + cus_j_list\n",
    "    b_k = cus_b_list + cus_k_list\n",
    "    a_g_i_k = cus_a_list + cus_g_list + cus_i_list + cus_k_list\n",
    "    c_h_i_k = cus_c_list + cus_h_list + cus_i_list + cus_k_list\n",
    "    d_e_h_i_k = cus_d_list + cus_e_list + cus_h_list + cus_i_list + cus_k_list\n",
    "    all_path = [a_f_j , b_k , a_g_i_k , c_h_i_k , d_e_h_i_k] \n",
    "    cri = [max(all_path)]\n",
    "    list1.append(cri)\n"
   ]
  },
  {
   "cell_type": "code",
   "execution_count": 25,
   "metadata": {},
   "outputs": [],
   "source": [
    "list1 = []\n",
    "for i in range(1000):\n",
    "    generate_ods(str(i))\n",
    "\n",
    "df_request = pd.DataFrame(list1)\n"
   ]
  },
  {
   "cell_type": "code",
   "execution_count": 26,
   "metadata": {},
   "outputs": [],
   "source": [
    "df_request.columns = [\"good\"]"
   ]
  },
  {
   "cell_type": "code",
   "execution_count": 27,
   "metadata": {},
   "outputs": [
    {
     "data": {
      "text/html": [
       "<div>\n",
       "<style scoped>\n",
       "    .dataframe tbody tr th:only-of-type {\n",
       "        vertical-align: middle;\n",
       "    }\n",
       "\n",
       "    .dataframe tbody tr th {\n",
       "        vertical-align: top;\n",
       "    }\n",
       "\n",
       "    .dataframe thead th {\n",
       "        text-align: right;\n",
       "    }\n",
       "</style>\n",
       "<table border=\"1\" class=\"dataframe\">\n",
       "  <thead>\n",
       "    <tr style=\"text-align: right;\">\n",
       "      <th></th>\n",
       "      <th>good</th>\n",
       "    </tr>\n",
       "  </thead>\n",
       "  <tbody>\n",
       "    <tr>\n",
       "      <th>0</th>\n",
       "      <td>27.567575</td>\n",
       "    </tr>\n",
       "    <tr>\n",
       "      <th>1</th>\n",
       "      <td>29.952808</td>\n",
       "    </tr>\n",
       "    <tr>\n",
       "      <th>2</th>\n",
       "      <td>37.087467</td>\n",
       "    </tr>\n",
       "    <tr>\n",
       "      <th>3</th>\n",
       "      <td>30.066862</td>\n",
       "    </tr>\n",
       "    <tr>\n",
       "      <th>4</th>\n",
       "      <td>28.168151</td>\n",
       "    </tr>\n",
       "    <tr>\n",
       "      <th>...</th>\n",
       "      <td>...</td>\n",
       "    </tr>\n",
       "    <tr>\n",
       "      <th>995</th>\n",
       "      <td>30.072626</td>\n",
       "    </tr>\n",
       "    <tr>\n",
       "      <th>996</th>\n",
       "      <td>31.990136</td>\n",
       "    </tr>\n",
       "    <tr>\n",
       "      <th>997</th>\n",
       "      <td>34.511796</td>\n",
       "    </tr>\n",
       "    <tr>\n",
       "      <th>998</th>\n",
       "      <td>30.542225</td>\n",
       "    </tr>\n",
       "    <tr>\n",
       "      <th>999</th>\n",
       "      <td>32.726403</td>\n",
       "    </tr>\n",
       "  </tbody>\n",
       "</table>\n",
       "<p>1000 rows × 1 columns</p>\n",
       "</div>"
      ],
      "text/plain": [
       "          good\n",
       "0    27.567575\n",
       "1    29.952808\n",
       "2    37.087467\n",
       "3    30.066862\n",
       "4    28.168151\n",
       "..         ...\n",
       "995  30.072626\n",
       "996  31.990136\n",
       "997  34.511796\n",
       "998  30.542225\n",
       "999  32.726403\n",
       "\n",
       "[1000 rows x 1 columns]"
      ]
     },
     "execution_count": 27,
     "metadata": {},
     "output_type": "execute_result"
    }
   ],
   "source": [
    "df_request"
   ]
  },
  {
   "cell_type": "code",
   "execution_count": 28,
   "metadata": {},
   "outputs": [
    {
     "data": {
      "text/plain": [
       "<matplotlib.axes._subplots.AxesSubplot at 0x18b60e27c08>"
      ]
     },
     "execution_count": 28,
     "metadata": {},
     "output_type": "execute_result"
    },
    {
     "data": {
      "image/png": "[encoded data removed]",
      "text/plain": [
       "<Figure size 432x288 with 1 Axes>"
      ]
     },
     "metadata": {
      "needs_background": "light"
     },
     "output_type": "display_data"
    }
   ],
   "source": [
    "df_request['good'].hist()"
   ]
  },
  {
   "cell_type": "code",
   "execution_count": null,
   "metadata": {},
   "outputs": [],
   "source": []
  }
 ],
 "metadata": {
  "kernelspec": {
   "display_name": "Python 3",
   "language": "python",
   "name": "python3"
  },
  "language_info": {
   "codemirror_mode": {
    "name": "ipython",
    "version": 3
   },
   "file_extension": ".py",
   "mimetype": "text/x-python",
   "name": "python",
   "nbconvert_exporter": "python",
   "pygments_lexer": "ipython3",
   "version": "3.7.6"
  }
 },
 "nbformat": 4,
 "nbformat_minor": 4
}
